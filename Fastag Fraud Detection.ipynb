{
 "cells": [
  {
   "cell_type": "markdown",
   "id": "4a44c816",
   "metadata": {},
   "source": [
    "Dataset Description:\n",
    "1. Transaction_ID: Unique identifier for each transaction.\n",
    "2. Timestamp: Date and time of the transaction.\n",
    "3. Vehicle_Type: Type of vehicle involved in the transaction.\n",
    "4. FastagID: Unique identifier for Fastag.\n",
    "5. TollBoothID: Identifier for the toll booth.\n",
    "6. Lane_Type: Type of lane used for the transaction.\n",
    "7. Vehicle_Dimensions: Dimensions of the vehicle.\n",
    "8. Transaction_Amount: Amount associated with the transaction.\n",
    "9. Amount_paid: Amount paid for the transaction.\n",
    "10. Geographical_Location: Location details of the transaction.\n",
    "11. Vehicle_Speed: Speed of the vehicle during the transaction.\n",
    "12. Vehicle_Plate_Number: License plate number of the vehicle.\n",
    "13. Fraud_indicator: Binary indicator of fraudulent activity (target variable)."
   ]
  },
  {
   "cell_type": "code",
   "execution_count": 9,
   "id": "403f7459",
   "metadata": {},
   "outputs": [],
   "source": [
    "import pandas as pd\n",
    "import numpy as np\n",
    "import matplotlib.pyplot as plt\n",
    "import seaborn as sns"
   ]
  },
  {
   "cell_type": "code",
   "execution_count": 12,
   "id": "a70bdc9e",
   "metadata": {},
   "outputs": [],
   "source": [
    "df=pd.read_csv('FastagFraudDetection.csv')"
   ]
  },
  {
   "cell_type": "code",
   "execution_count": 13,
   "id": "7989fdb4",
   "metadata": {},
   "outputs": [
    {
     "data": {
      "text/html": [
       "<div>\n",
       "<style scoped>\n",
       "    .dataframe tbody tr th:only-of-type {\n",
       "        vertical-align: middle;\n",
       "    }\n",
       "\n",
       "    .dataframe tbody tr th {\n",
       "        vertical-align: top;\n",
       "    }\n",
       "\n",
       "    .dataframe thead th {\n",
       "        text-align: right;\n",
       "    }\n",
       "</style>\n",
       "<table border=\"1\" class=\"dataframe\">\n",
       "  <thead>\n",
       "    <tr style=\"text-align: right;\">\n",
       "      <th></th>\n",
       "      <th>Transaction_ID</th>\n",
       "      <th>Timestamp</th>\n",
       "      <th>Vehicle_Type</th>\n",
       "      <th>FastagID</th>\n",
       "      <th>TollBoothID</th>\n",
       "      <th>Lane_Type</th>\n",
       "      <th>Vehicle_Dimensions</th>\n",
       "      <th>Transaction_Amount</th>\n",
       "      <th>Amount_paid</th>\n",
       "      <th>Geographical_Location</th>\n",
       "      <th>Vehicle_Speed</th>\n",
       "      <th>Vehicle_Plate_Number</th>\n",
       "      <th>Fraud_indicator</th>\n",
       "    </tr>\n",
       "  </thead>\n",
       "  <tbody>\n",
       "    <tr>\n",
       "      <th>1875</th>\n",
       "      <td>1876</td>\n",
       "      <td>1/3/2023 18:30</td>\n",
       "      <td>SUV</td>\n",
       "      <td>FTG-024-GHI-678</td>\n",
       "      <td>B-102</td>\n",
       "      <td>Regular</td>\n",
       "      <td>Large</td>\n",
       "      <td>140</td>\n",
       "      <td>140</td>\n",
       "      <td>12.936687032945434, 77.53113977439017</td>\n",
       "      <td>60</td>\n",
       "      <td>KA43AB1456</td>\n",
       "      <td>Not Fraud</td>\n",
       "    </tr>\n",
       "    <tr>\n",
       "      <th>3773</th>\n",
       "      <td>3774</td>\n",
       "      <td>5/16/2023 0:20</td>\n",
       "      <td>SUV</td>\n",
       "      <td>FTG-112-LPO-206</td>\n",
       "      <td>B-102</td>\n",
       "      <td>Regular</td>\n",
       "      <td>Large</td>\n",
       "      <td>150</td>\n",
       "      <td>150</td>\n",
       "      <td>12.84197701525119, 77.67547528176169</td>\n",
       "      <td>96</td>\n",
       "      <td>AP12OP3456</td>\n",
       "      <td>Not Fraud</td>\n",
       "    </tr>\n",
       "    <tr>\n",
       "      <th>3885</th>\n",
       "      <td>3886</td>\n",
       "      <td>7/1/2023 1:20</td>\n",
       "      <td>SUV</td>\n",
       "      <td>FTG-599-WSX-543</td>\n",
       "      <td>B-102</td>\n",
       "      <td>Regular</td>\n",
       "      <td>Large</td>\n",
       "      <td>150</td>\n",
       "      <td>150</td>\n",
       "      <td>12.84197701525119, 77.67547528176169</td>\n",
       "      <td>84</td>\n",
       "      <td>TN01PQ6789</td>\n",
       "      <td>Not Fraud</td>\n",
       "    </tr>\n",
       "    <tr>\n",
       "      <th>76</th>\n",
       "      <td>77</td>\n",
       "      <td>3/23/2023 21:20</td>\n",
       "      <td>SUV</td>\n",
       "      <td>FTG-067-LMK-983</td>\n",
       "      <td>B-102</td>\n",
       "      <td>Express</td>\n",
       "      <td>Large</td>\n",
       "      <td>180</td>\n",
       "      <td>180</td>\n",
       "      <td>13.059816123454882, 77.77068662374292</td>\n",
       "      <td>69</td>\n",
       "      <td>KA12IJ8801</td>\n",
       "      <td>Not Fraud</td>\n",
       "    </tr>\n",
       "    <tr>\n",
       "      <th>2948</th>\n",
       "      <td>2949</td>\n",
       "      <td>6/11/2023 3:03</td>\n",
       "      <td>Bus</td>\n",
       "      <td>FTG-449-RFD-523</td>\n",
       "      <td>C-103</td>\n",
       "      <td>Express</td>\n",
       "      <td>Large</td>\n",
       "      <td>350</td>\n",
       "      <td>350</td>\n",
       "      <td>13.059816123454882, 77.77068662374292</td>\n",
       "      <td>66</td>\n",
       "      <td>KA01JK8901</td>\n",
       "      <td>Not Fraud</td>\n",
       "    </tr>\n",
       "  </tbody>\n",
       "</table>\n",
       "</div>"
      ],
      "text/plain": [
       "      Transaction_ID        Timestamp Vehicle_Type         FastagID  \\\n",
       "1875            1876   1/3/2023 18:30          SUV  FTG-024-GHI-678   \n",
       "3773            3774   5/16/2023 0:20          SUV  FTG-112-LPO-206   \n",
       "3885            3886    7/1/2023 1:20          SUV  FTG-599-WSX-543   \n",
       "76                77  3/23/2023 21:20          SUV  FTG-067-LMK-983   \n",
       "2948            2949   6/11/2023 3:03         Bus   FTG-449-RFD-523   \n",
       "\n",
       "     TollBoothID Lane_Type Vehicle_Dimensions  Transaction_Amount  \\\n",
       "1875       B-102   Regular              Large                 140   \n",
       "3773       B-102   Regular              Large                 150   \n",
       "3885       B-102   Regular              Large                 150   \n",
       "76         B-102   Express              Large                 180   \n",
       "2948       C-103   Express              Large                 350   \n",
       "\n",
       "      Amount_paid                  Geographical_Location  Vehicle_Speed  \\\n",
       "1875          140  12.936687032945434, 77.53113977439017             60   \n",
       "3773          150   12.84197701525119, 77.67547528176169             96   \n",
       "3885          150   12.84197701525119, 77.67547528176169             84   \n",
       "76            180  13.059816123454882, 77.77068662374292             69   \n",
       "2948          350  13.059816123454882, 77.77068662374292             66   \n",
       "\n",
       "     Vehicle_Plate_Number Fraud_indicator  \n",
       "1875           KA43AB1456       Not Fraud  \n",
       "3773           AP12OP3456       Not Fraud  \n",
       "3885           TN01PQ6789       Not Fraud  \n",
       "76             KA12IJ8801       Not Fraud  \n",
       "2948           KA01JK8901       Not Fraud  "
      ]
     },
     "execution_count": 13,
     "metadata": {},
     "output_type": "execute_result"
    }
   ],
   "source": [
    "df.sample(5)"
   ]
  },
  {
   "cell_type": "code",
   "execution_count": 11,
   "id": "f87d1087",
   "metadata": {},
   "outputs": [
    {
     "data": {
      "text/plain": [
       "(5000, 13)"
      ]
     },
     "execution_count": 11,
     "metadata": {},
     "output_type": "execute_result"
    }
   ],
   "source": [
    "df.shape"
   ]
  },
  {
   "cell_type": "code",
   "execution_count": 14,
   "id": "66527ecc",
   "metadata": {},
   "outputs": [
    {
     "name": "stdout",
     "output_type": "stream",
     "text": [
      "<class 'pandas.core.frame.DataFrame'>\n",
      "RangeIndex: 5000 entries, 0 to 4999\n",
      "Data columns (total 13 columns):\n",
      " #   Column                 Non-Null Count  Dtype \n",
      "---  ------                 --------------  ----- \n",
      " 0   Transaction_ID         5000 non-null   int64 \n",
      " 1   Timestamp              5000 non-null   object\n",
      " 2   Vehicle_Type           5000 non-null   object\n",
      " 3   FastagID               4451 non-null   object\n",
      " 4   TollBoothID            5000 non-null   object\n",
      " 5   Lane_Type              5000 non-null   object\n",
      " 6   Vehicle_Dimensions     5000 non-null   object\n",
      " 7   Transaction_Amount     5000 non-null   int64 \n",
      " 8   Amount_paid            5000 non-null   int64 \n",
      " 9   Geographical_Location  5000 non-null   object\n",
      " 10  Vehicle_Speed          5000 non-null   int64 \n",
      " 11  Vehicle_Plate_Number   5000 non-null   object\n",
      " 12  Fraud_indicator        5000 non-null   object\n",
      "dtypes: int64(4), object(9)\n",
      "memory usage: 507.9+ KB\n"
     ]
    }
   ],
   "source": [
    "df.info()"
   ]
  },
  {
   "cell_type": "code",
   "execution_count": 15,
   "id": "709780e6",
   "metadata": {},
   "outputs": [
    {
     "data": {
      "text/plain": [
       "Transaction_ID             0\n",
       "Timestamp                  0\n",
       "Vehicle_Type               0\n",
       "FastagID                 549\n",
       "TollBoothID                0\n",
       "Lane_Type                  0\n",
       "Vehicle_Dimensions         0\n",
       "Transaction_Amount         0\n",
       "Amount_paid                0\n",
       "Geographical_Location      0\n",
       "Vehicle_Speed              0\n",
       "Vehicle_Plate_Number       0\n",
       "Fraud_indicator            0\n",
       "dtype: int64"
      ]
     },
     "execution_count": 15,
     "metadata": {},
     "output_type": "execute_result"
    }
   ],
   "source": [
    "df.isnull().sum()"
   ]
  },
  {
   "cell_type": "code",
   "execution_count": 18,
   "id": "23ff589f",
   "metadata": {},
   "outputs": [
    {
     "data": {
      "text/html": [
       "<div>\n",
       "<style scoped>\n",
       "    .dataframe tbody tr th:only-of-type {\n",
       "        vertical-align: middle;\n",
       "    }\n",
       "\n",
       "    .dataframe tbody tr th {\n",
       "        vertical-align: top;\n",
       "    }\n",
       "\n",
       "    .dataframe thead th {\n",
       "        text-align: right;\n",
       "    }\n",
       "</style>\n",
       "<table border=\"1\" class=\"dataframe\">\n",
       "  <thead>\n",
       "    <tr style=\"text-align: right;\">\n",
       "      <th></th>\n",
       "      <th>Timestamp</th>\n",
       "      <th>Vehicle_Type</th>\n",
       "      <th>FastagID</th>\n",
       "      <th>TollBoothID</th>\n",
       "      <th>Lane_Type</th>\n",
       "      <th>Vehicle_Dimensions</th>\n",
       "      <th>Geographical_Location</th>\n",
       "      <th>Vehicle_Plate_Number</th>\n",
       "      <th>Fraud_indicator</th>\n",
       "    </tr>\n",
       "  </thead>\n",
       "  <tbody>\n",
       "    <tr>\n",
       "      <th>count</th>\n",
       "      <td>5000</td>\n",
       "      <td>5000</td>\n",
       "      <td>4451</td>\n",
       "      <td>5000</td>\n",
       "      <td>5000</td>\n",
       "      <td>5000</td>\n",
       "      <td>5000</td>\n",
       "      <td>5000</td>\n",
       "      <td>5000</td>\n",
       "    </tr>\n",
       "    <tr>\n",
       "      <th>unique</th>\n",
       "      <td>4423</td>\n",
       "      <td>7</td>\n",
       "      <td>4451</td>\n",
       "      <td>6</td>\n",
       "      <td>2</td>\n",
       "      <td>3</td>\n",
       "      <td>5</td>\n",
       "      <td>5000</td>\n",
       "      <td>2</td>\n",
       "    </tr>\n",
       "    <tr>\n",
       "      <th>top</th>\n",
       "      <td>1/1/2023 8:15</td>\n",
       "      <td>Bus</td>\n",
       "      <td>FTG-001-ABC-121</td>\n",
       "      <td>B-102</td>\n",
       "      <td>Regular</td>\n",
       "      <td>Large</td>\n",
       "      <td>13.059816123454882, 77.77068662374292</td>\n",
       "      <td>KA11AB1234</td>\n",
       "      <td>Not Fraud</td>\n",
       "    </tr>\n",
       "    <tr>\n",
       "      <th>freq</th>\n",
       "      <td>5</td>\n",
       "      <td>716</td>\n",
       "      <td>1</td>\n",
       "      <td>1432</td>\n",
       "      <td>2858</td>\n",
       "      <td>2144</td>\n",
       "      <td>1000</td>\n",
       "      <td>1</td>\n",
       "      <td>4017</td>\n",
       "    </tr>\n",
       "  </tbody>\n",
       "</table>\n",
       "</div>"
      ],
      "text/plain": [
       "            Timestamp Vehicle_Type         FastagID TollBoothID Lane_Type  \\\n",
       "count            5000         5000             4451        5000      5000   \n",
       "unique           4423            7             4451           6         2   \n",
       "top     1/1/2023 8:15         Bus   FTG-001-ABC-121       B-102   Regular   \n",
       "freq                5          716                1        1432      2858   \n",
       "\n",
       "       Vehicle_Dimensions                  Geographical_Location  \\\n",
       "count                5000                                   5000   \n",
       "unique                  3                                      5   \n",
       "top                 Large  13.059816123454882, 77.77068662374292   \n",
       "freq                 2144                                   1000   \n",
       "\n",
       "       Vehicle_Plate_Number Fraud_indicator  \n",
       "count                  5000            5000  \n",
       "unique                 5000               2  \n",
       "top              KA11AB1234       Not Fraud  \n",
       "freq                      1            4017  "
      ]
     },
     "execution_count": 18,
     "metadata": {},
     "output_type": "execute_result"
    }
   ],
   "source": [
    "df.describe(include='object')"
   ]
  },
  {
   "cell_type": "code",
   "execution_count": 29,
   "id": "d0bbe712",
   "metadata": {},
   "outputs": [
    {
     "data": {
      "text/plain": [
       "Index(['Transaction_ID', 'Timestamp', 'Vehicle_Type', 'FastagID',\n",
       "       'TollBoothID', 'Lane_Type', 'Vehicle_Dimensions', 'Transaction_Amount',\n",
       "       'Amount_paid', 'Geographical_Location', 'Vehicle_Speed',\n",
       "       'Vehicle_Plate_Number', 'Fraud_indicator'],\n",
       "      dtype='object')"
      ]
     },
     "execution_count": 29,
     "metadata": {},
     "output_type": "execute_result"
    }
   ],
   "source": [
    "df.columns"
   ]
  },
  {
   "cell_type": "code",
   "execution_count": 33,
   "id": "e6cdb1dd",
   "metadata": {},
   "outputs": [
    {
     "name": "stdout",
     "output_type": "stream",
     "text": [
      "Unique values for Vehicle_Type:\n",
      "['Bus ' 'Car' 'Motorcycle' 'Truck' 'Van' 'Sedan' 'SUV']\n",
      "\n",
      "Unique values for TollBoothID:\n",
      "['A-101' 'B-102' 'D-104' 'C-103' 'D-105' 'D-106']\n",
      "\n",
      "Unique values for Lane_Type:\n",
      "['Express' 'Regular']\n",
      "\n",
      "Unique values for Vehicle_Dimensions:\n",
      "['Large' 'Small' 'Medium']\n",
      "\n",
      "Unique values for Fraud_indicator:\n",
      "['Fraud' 'Not Fraud']\n",
      "\n"
     ]
    }
   ],
   "source": [
    "column_values= ['Vehicle_Type', 'TollBoothID', 'Lane_Type', 'Vehicle_Dimensions', 'Fraud_indicator']\n",
    "\n",
    "for column in column_values:\n",
    "    print(f'Unique values for {column}:')\n",
    "    print(df[column].unique())\n",
    "    print()\n"
   ]
  },
  {
   "cell_type": "code",
   "execution_count": 19,
   "id": "a95969fd",
   "metadata": {},
   "outputs": [
    {
     "data": {
      "text/html": [
       "<div>\n",
       "<style scoped>\n",
       "    .dataframe tbody tr th:only-of-type {\n",
       "        vertical-align: middle;\n",
       "    }\n",
       "\n",
       "    .dataframe tbody tr th {\n",
       "        vertical-align: top;\n",
       "    }\n",
       "\n",
       "    .dataframe thead th {\n",
       "        text-align: right;\n",
       "    }\n",
       "</style>\n",
       "<table border=\"1\" class=\"dataframe\">\n",
       "  <thead>\n",
       "    <tr style=\"text-align: right;\">\n",
       "      <th></th>\n",
       "      <th>Transaction_ID</th>\n",
       "      <th>Transaction_Amount</th>\n",
       "      <th>Amount_paid</th>\n",
       "      <th>Vehicle_Speed</th>\n",
       "    </tr>\n",
       "  </thead>\n",
       "  <tbody>\n",
       "    <tr>\n",
       "      <th>count</th>\n",
       "      <td>5000.000000</td>\n",
       "      <td>5000.00000</td>\n",
       "      <td>5000.000000</td>\n",
       "      <td>5000.000000</td>\n",
       "    </tr>\n",
       "    <tr>\n",
       "      <th>mean</th>\n",
       "      <td>2500.500000</td>\n",
       "      <td>161.06200</td>\n",
       "      <td>141.261000</td>\n",
       "      <td>67.851200</td>\n",
       "    </tr>\n",
       "    <tr>\n",
       "      <th>std</th>\n",
       "      <td>1443.520003</td>\n",
       "      <td>112.44995</td>\n",
       "      <td>106.480996</td>\n",
       "      <td>16.597547</td>\n",
       "    </tr>\n",
       "    <tr>\n",
       "      <th>min</th>\n",
       "      <td>1.000000</td>\n",
       "      <td>0.00000</td>\n",
       "      <td>0.000000</td>\n",
       "      <td>10.000000</td>\n",
       "    </tr>\n",
       "    <tr>\n",
       "      <th>25%</th>\n",
       "      <td>1250.750000</td>\n",
       "      <td>100.00000</td>\n",
       "      <td>90.000000</td>\n",
       "      <td>54.000000</td>\n",
       "    </tr>\n",
       "    <tr>\n",
       "      <th>50%</th>\n",
       "      <td>2500.500000</td>\n",
       "      <td>130.00000</td>\n",
       "      <td>120.000000</td>\n",
       "      <td>67.000000</td>\n",
       "    </tr>\n",
       "    <tr>\n",
       "      <th>75%</th>\n",
       "      <td>3750.250000</td>\n",
       "      <td>290.00000</td>\n",
       "      <td>160.000000</td>\n",
       "      <td>82.000000</td>\n",
       "    </tr>\n",
       "    <tr>\n",
       "      <th>max</th>\n",
       "      <td>5000.000000</td>\n",
       "      <td>350.00000</td>\n",
       "      <td>350.000000</td>\n",
       "      <td>118.000000</td>\n",
       "    </tr>\n",
       "  </tbody>\n",
       "</table>\n",
       "</div>"
      ],
      "text/plain": [
       "       Transaction_ID  Transaction_Amount  Amount_paid  Vehicle_Speed\n",
       "count     5000.000000          5000.00000  5000.000000    5000.000000\n",
       "mean      2500.500000           161.06200   141.261000      67.851200\n",
       "std       1443.520003           112.44995   106.480996      16.597547\n",
       "min          1.000000             0.00000     0.000000      10.000000\n",
       "25%       1250.750000           100.00000    90.000000      54.000000\n",
       "50%       2500.500000           130.00000   120.000000      67.000000\n",
       "75%       3750.250000           290.00000   160.000000      82.000000\n",
       "max       5000.000000           350.00000   350.000000     118.000000"
      ]
     },
     "execution_count": 19,
     "metadata": {},
     "output_type": "execute_result"
    }
   ],
   "source": [
    "df.describe()"
   ]
  },
  {
   "cell_type": "code",
   "execution_count": 25,
   "id": "e4a9933a",
   "metadata": {},
   "outputs": [
    {
     "data": {
      "text/plain": [
       "array(['A-101', 'B-102', 'D-104', 'C-103', 'D-105', 'D-106'], dtype=object)"
      ]
     },
     "execution_count": 25,
     "metadata": {},
     "output_type": "execute_result"
    }
   ],
   "source": [
    "df['TollBoothID'].unique()"
   ]
  },
  {
   "cell_type": "code",
   "execution_count": null,
   "id": "93a69dd2",
   "metadata": {},
   "outputs": [],
   "source": []
  }
 ],
 "metadata": {
  "kernelspec": {
   "display_name": "Python 3 (ipykernel)",
   "language": "python",
   "name": "python3"
  },
  "language_info": {
   "codemirror_mode": {
    "name": "ipython",
    "version": 3
   },
   "file_extension": ".py",
   "mimetype": "text/x-python",
   "name": "python",
   "nbconvert_exporter": "python",
   "pygments_lexer": "ipython3",
   "version": "3.10.11"
  }
 },
 "nbformat": 4,
 "nbformat_minor": 5
}
